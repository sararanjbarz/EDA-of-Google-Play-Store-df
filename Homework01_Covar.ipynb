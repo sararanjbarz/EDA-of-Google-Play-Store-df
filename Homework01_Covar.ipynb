{
  "nbformat": 4,
  "nbformat_minor": 0,
  "metadata": {
    "colab": {
      "name": "Homework01_Covar.ipynb",
      "provenance": [],
      "authorship_tag": "ABX9TyPccldYgqAiQ/DWv294ArHP",
      "include_colab_link": true
    },
    "kernelspec": {
      "name": "python3",
      "display_name": "Python 3"
    },
    "language_info": {
      "name": "python"
    }
  },
  "cells": [
    {
      "cell_type": "markdown",
      "metadata": {
        "id": "view-in-github",
        "colab_type": "text"
      },
      "source": [
        "<a href=\"https://colab.research.google.com/github/sararanjbarz/EDA-of-Google-Play-Store-df/blob/main/Homework01_Covar.ipynb\" target=\"_parent\"><img src=\"https://colab.research.google.com/assets/colab-badge.svg\" alt=\"Open In Colab\"/></a>"
      ]
    },
    {
      "cell_type": "code",
      "metadata": {
        "colab": {
          "base_uri": "https://localhost:8080/",
          "height": 253
        },
        "id": "6lmai-h2WtGW",
        "outputId": "767ba28b-b8ad-47c6-badf-d4b01ed47334"
      },
      "source": [
        "from sklearn import datasets\n",
        "import pandas as pd\n",
        "import matplotlib.pyplot as plt\n",
        "\n",
        "\n",
        "data= datasets.load_iris\n",
        "df = pd.DataFrame(data.data,columns=data.feature_names)\n",
        "df['target'] = pd.series(data.target)\n",
        "\n",
        "df.head()\n",
        "\n",
        "data= df.to_numpy()[:,:2]\n",
        "\n",
        "data.shape\n",
        "\n",
        "\n",
        "def descritisize(x1,x2):\n",
        "  x=7*[0]\n",
        "  if in 4.3<= x1 <=5.2: x[0]=1\n",
        "   if in 5.2< x1 <=6.1: x[1] =1\n",
        "   if in 6.1< x1 <=7.0: x[2] =1\n",
        "   if in 7.0< x1 <=7.9: x[3] =1\n",
        "   if in 2.0<= x2 <=2.8: x[4] =1\n",
        "   if in 2.8< x2 <=3.6: x[5] =1\n",
        "   if in 3.6< x2 <=4.4: x[6] =1\n",
        "\n",
        "   return np.array(x)\n",
        "\n",
        "\n",
        "descritisize(data[0,0],data[0,1])\n",
        "\n",
        "\n",
        "mu=np.array(7*[0])\n",
        "for x in date:\n",
        "  mu=mu+descritisize(x[0],x[1])\n",
        "\n",
        "\n",
        "mu= mu/150\n",
        "print(mu.round(2))\n",
        "\n"
      ],
      "execution_count": 6,
      "outputs": [
        {
          "output_type": "error",
          "ename": "AttributeError",
          "evalue": "ignored",
          "traceback": [
            "\u001b[0;31m---------------------------------------------------------------------------\u001b[0m",
            "\u001b[0;31mAttributeError\u001b[0m                            Traceback (most recent call last)",
            "\u001b[0;32m<ipython-input-6-5e4df9060fc1>\u001b[0m in \u001b[0;36m<module>\u001b[0;34m()\u001b[0m\n\u001b[1;32m      5\u001b[0m \u001b[0;34m\u001b[0m\u001b[0m\n\u001b[1;32m      6\u001b[0m \u001b[0mdata\u001b[0m\u001b[0;34m=\u001b[0m \u001b[0mdatasets\u001b[0m\u001b[0;34m.\u001b[0m\u001b[0mload_iris\u001b[0m\u001b[0;34m\u001b[0m\u001b[0;34m\u001b[0m\u001b[0m\n\u001b[0;32m----> 7\u001b[0;31m \u001b[0mdf\u001b[0m \u001b[0;34m=\u001b[0m \u001b[0mpd\u001b[0m\u001b[0;34m.\u001b[0m\u001b[0mDataFrame\u001b[0m\u001b[0;34m(\u001b[0m\u001b[0mdata\u001b[0m\u001b[0;34m.\u001b[0m\u001b[0mdata\u001b[0m\u001b[0;34m,\u001b[0m\u001b[0mcolumns\u001b[0m\u001b[0;34m=\u001b[0m\u001b[0mdata\u001b[0m\u001b[0;34m.\u001b[0m\u001b[0mfeature_names\u001b[0m\u001b[0;34m)\u001b[0m\u001b[0;34m\u001b[0m\u001b[0;34m\u001b[0m\u001b[0m\n\u001b[0m\u001b[1;32m      8\u001b[0m \u001b[0mdf\u001b[0m\u001b[0;34m[\u001b[0m\u001b[0;34m'target'\u001b[0m\u001b[0;34m]\u001b[0m \u001b[0;34m=\u001b[0m \u001b[0mpd\u001b[0m\u001b[0;34m.\u001b[0m\u001b[0mseries\u001b[0m\u001b[0;34m(\u001b[0m\u001b[0mdata\u001b[0m\u001b[0;34m.\u001b[0m\u001b[0mtarget\u001b[0m\u001b[0;34m)\u001b[0m\u001b[0;34m\u001b[0m\u001b[0;34m\u001b[0m\u001b[0m\n\u001b[1;32m      9\u001b[0m \u001b[0;34m\u001b[0m\u001b[0m\n",
            "\u001b[0;31mAttributeError\u001b[0m: 'function' object has no attribute 'data'"
          ]
        }
      ]
    }
  ]
}